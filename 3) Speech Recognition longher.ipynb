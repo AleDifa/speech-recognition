{
 "cells": [
  {
   "cell_type": "code",
   "execution_count": 45,
   "metadata": {},
   "outputs": [],
   "source": [
    "import os\n",
    "import speech_recognition "
   ]
  },
  {
   "cell_type": "code",
   "execution_count": 6,
   "metadata": {},
   "outputs": [],
   "source": [
    "from pydub import AudioSegment\n",
    "from pydub.utils import make_chunks\n",
    "import warnings\n",
    "warnings.filterwarnings('ignore')"
   ]
  },
  {
   "cell_type": "code",
   "execution_count": 7,
   "metadata": {},
   "outputs": [
    {
     "data": {
      "text/plain": [
       "'C:\\\\Users\\\\Alessandro\\\\Desktop\\\\Big Data\\\\PROJECT\\\\Speech Recognition [NLP]\\\\NLP [slpit audio, recognize google , nlp ]'"
      ]
     },
     "execution_count": 7,
     "metadata": {},
     "output_type": "execute_result"
    }
   ],
   "source": [
    "# Show me where is the directory Python interpreter session running\n",
    "# the Audio file need to store in the same directory session\n",
    "os.getcwd()\n"
   ]
  },
  {
   "cell_type": "code",
   "execution_count": 8,
   "metadata": {},
   "outputs": [],
   "source": [
    "# put the audio where Py. is running \n",
    "myaudio = AudioSegment.from_wav(\"REMARKETING  EPISODIO 1 - Cosè il remarketing.wav\" , \"wav\")"
   ]
  },
  {
   "cell_type": "code",
   "execution_count": 9,
   "metadata": {},
   "outputs": [],
   "source": [
    "# for work in audio more longher than 1 minute, we need to pass more little file, \n",
    "# split the audio every 50 seconds,  pydub calculates in millisec 50000 = 50 seconds\n",
    "chunk_length_ms = 50000"
   ]
  },
  {
   "cell_type": "code",
   "execution_count": 10,
   "metadata": {},
   "outputs": [],
   "source": [
    "# Make chunks from myaudio for chunk_length_ms\n",
    "chunks = make_chunks(myaudio, chunk_length_ms)"
   ]
  },
  {
   "cell_type": "code",
   "execution_count": 12,
   "metadata": {},
   "outputs": [
    {
     "name": "stdout",
     "output_type": "stream",
     "text": [
      "exporting traccia0.wav\n",
      "exporting traccia1.wav\n",
      "exporting traccia2.wav\n",
      "exporting traccia3.wav\n",
      "exporting traccia4.wav\n"
     ]
    }
   ],
   "source": [
    "# Export all of the individual chunks as wav files\n",
    "for i,chunk in enumerate(chunks):\n",
    "    chunk_name = \"traccia{0}.wav\".format(i)\n",
    "    print (\"exporting\", chunk_name)\n",
    "    chunk.export(chunk_name, format=\"wav\")"
   ]
  },
  {
   "cell_type": "markdown",
   "metadata": {},
   "source": [
    "-----------"
   ]
  },
  {
   "cell_type": "markdown",
   "metadata": {},
   "source": [
    "Recognize text from audio with google API"
   ]
  },
  {
   "cell_type": "code",
   "execution_count": 47,
   "metadata": {},
   "outputs": [],
   "source": [
    "# create a istance of recognize speech\n",
    "r = speech_recognition.Recognizer()"
   ]
  },
  {
   "cell_type": "code",
   "execution_count": 48,
   "metadata": {},
   "outputs": [],
   "source": [
    "# All audio recordings have some degree of noise in them,\n",
    "# and unhandled noise can wreck the accuracy of speech recognition\n",
    "traccia0 = speech_recognition.AudioFile(\"traccia0.wav\")\n",
    "traccia1 = speech_recognition.AudioFile(\"traccia1.wav\")\n",
    "traccia2 = speech_recognition.AudioFile(\"traccia2.wav\")\n",
    "traccia3 = speech_recognition.AudioFile(\"traccia3.wav\")\n",
    "traccia4 = speech_recognition.AudioFile(\"traccia4.wav\")"
   ]
  },
  {
   "cell_type": "code",
   "execution_count": 49,
   "metadata": {},
   "outputs": [],
   "source": [
    "# use \"traccia0\" as the audio source, listen for 1 second to calibrate the energy threshold for ambient noise levels\n",
    "# record() method to capture data/audio from the file\n",
    "\n",
    "with traccia0 as source:\n",
    "    r.adjust_for_ambient_noise(source, duration=1)\n",
    "    audio0 = r.record(source)"
   ]
  },
  {
   "cell_type": "code",
   "execution_count": 50,
   "metadata": {},
   "outputs": [
    {
     "data": {
      "text/plain": [
       "speech_recognition.AudioData"
      ]
     },
     "execution_count": 50,
     "metadata": {},
     "output_type": "execute_result"
    }
   ],
   "source": [
    "type(audio0)"
   ]
  },
  {
   "cell_type": "code",
   "execution_count": 32,
   "metadata": {},
   "outputs": [
    {
     "data": {
      "text/plain": [
       "\"per la rubrica marketing di radio.it parliamo di remarketing con la più grande esperta in Italia che è Alessandra Maggio radio.it soluzioni idee novità per chi acquista utilizza o vende tecnologia tecnologia e studio Ma Alessandra Che cos'è remarketing farò due tipi di di di spiegazioni una tecnica e una concettuale da un punto di vista operativo è molto semplice io invito le persone gli utenti del mio sito a essere accettati da quelli che sono dei cookie che il mio sito rilascia le mie pagine\""
      ]
     },
     "execution_count": 32,
     "metadata": {},
     "output_type": "execute_result"
    }
   ],
   "source": [
    "r.recognize_google(audio0, language=\"it-IT\")"
   ]
  },
  {
   "cell_type": "code",
   "execution_count": 24,
   "metadata": {},
   "outputs": [
    {
     "data": {
      "text/plain": [
       "\"rilasciano ho la mia pagina Facebook di lasciare mi serve per intercettare fare il pollo Apps utenti che in qualche modo Già hanno avuto un interazione con me il sollecito questo perché Perché il percorso D'Acquisto oggi o comunque di conversione perché parliamo anche di regeneration o comunque anche di prendere warnes principalmente il percorso questi percorsi sono diventati estremamente più complessi molto più lunghi l'utente oggi ha bisogno di andare e tornare varie volte sul sito di riguardare un contenuto di salvarlo e leggerlo successivamente Io ho bisogno però di presidiare questo percorso in tutti i punti e remarketing alla strategia che mi permette di farlo in maniera operativa è un punto di vista concettuale e l'anima della pubblicità Oggi è impossibile fare marketing digitale abbracciare anche una parte di remarketing e retargeting fondamentalmente se noi pensiamo alla pubblicità\""
      ]
     },
     "execution_count": 24,
     "metadata": {},
     "output_type": "execute_result"
    }
   ],
   "source": [
    "with traccia1 as source:\n",
    "    audio1 = r.record(source)\n",
    "\n",
    "r.recognize_google(audio1, language=\"it_IT\")"
   ]
  },
  {
   "cell_type": "code",
   "execution_count": 25,
   "metadata": {},
   "outputs": [
    {
     "data": {
      "text/plain": [
       "\"pensiamo messaggio ripetuto nel tempo quindi le due caratteristiche importanti sono la frequenza Quindi quante volte vedo questo messaggio all'interno di uno spazio temporale più alzo la frequenza è più rimarrà impresso nella mente dei miei utenti No ero in marketing retargeting servono principalmente a questo Cioè io attraverso un messaggio personalizzato perché In base allo step che l'utente debba compiere quindi di questo fantomatico percorso io posso personalizzare la comunicazione per questo tende però nel frattempo posso accelerare un certo ritmo di frequenza all'interno di uno spazio temporale preciso e quindi sto facendo Praticamente pubblicità niente di più niente di meno Solo che non lavoro call marketing diretto quindi a risposta diretta al lavoro con un processo che piano piano avvicina l'utente al mio Prendo il mio prodotto e fai mo\""
      ]
     },
     "execution_count": 25,
     "metadata": {},
     "output_type": "execute_result"
    }
   ],
   "source": [
    "with traccia2 as source:\n",
    "    audio2 = r.record(source)\n",
    "\n",
    "r.recognize_google(audio2, language=\"it_IT\")"
   ]
  },
  {
   "cell_type": "code",
   "execution_count": 26,
   "metadata": {},
   "outputs": [
    {
     "data": {
      "text/plain": [
       "\"l'utente non si dimentichi mai di me una volta che l'utente ha preso la decisione bisogna renderli il più immediato possibile l'acquisto perché sennò quello perdi Quindi Alessia comprami la nuova videocamera di suoni quindi Comprami questo prodotto immediatamente la cosa più veloce comunque anche con la app di Amazon tacca 3 secondi butti dentro il carrello e ti arriva tutto no E quindi il gioco è velocizzare il più possibile azione dell'acquisto ma dover inseguire più volte sta realizzando Magari messaggi affinché a furia di sentire il messaggio si convinca poi acquistare attacchi in pochi secondi acquisti questo interessamento tutto assolutamente corretto Ti è piaciuto questo episodio bene nel\""
      ]
     },
     "execution_count": 26,
     "metadata": {},
     "output_type": "execute_result"
    }
   ],
   "source": [
    "with traccia3 as source:\n",
    "    audio3 = r.record(source)\n",
    "\n",
    "r.recognize_google(audio3, language=\"it_IT\")"
   ]
  },
  {
   "cell_type": "code",
   "execution_count": 28,
   "metadata": {},
   "outputs": [
    {
     "data": {
      "text/plain": [
       "'con Alessandra Maggio parleremo degli strumenti per il remarketing segui quindi su Radio iti.it i nostri carrelli porta radio.it soluzioni idee novità per chi acquista utilizza o vende tecnologia tecnologia'"
      ]
     },
     "execution_count": 28,
     "metadata": {},
     "output_type": "execute_result"
    }
   ],
   "source": [
    "with traccia4 as source:\n",
    "    audio4 = r.record(source)\n",
    "\n",
    "r.recognize_google(audio4, language=\"it_IT\")"
   ]
  },
  {
   "cell_type": "code",
   "execution_count": null,
   "metadata": {},
   "outputs": [],
   "source": [
    "# More words are incorrect, a better way would be to work with software to reduce the level of background noise."
   ]
  }
 ],
 "metadata": {
  "kernelspec": {
   "display_name": "Python 3",
   "language": "python",
   "name": "python3"
  },
  "language_info": {
   "codemirror_mode": {
    "name": "ipython",
    "version": 3
   },
   "file_extension": ".py",
   "mimetype": "text/x-python",
   "name": "python",
   "nbconvert_exporter": "python",
   "pygments_lexer": "ipython3",
   "version": "3.8.1"
  }
 },
 "nbformat": 4,
 "nbformat_minor": 2
}
